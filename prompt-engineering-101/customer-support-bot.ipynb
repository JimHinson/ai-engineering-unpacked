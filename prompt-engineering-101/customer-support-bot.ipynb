{
 "cells": [
  {
   "cell_type": "markdown",
   "metadata": {},
   "source": [
    "# Prompt Engineering 101: Learn by Building\n",
    "\n",
    "This notebook demonstrates key prompt engineering concepts using Google's Gemini API."
   ]
  },
  {
   "cell_type": "code",
   "execution_count": null,
   "metadata": {},
   "outputs": [],
   "source": [
    "# Install required packages\n",
    "%pip install google-genai python-dotenv"
   ]
  },
  {
   "cell_type": "code",
   "execution_count": 2,
   "metadata": {},
   "outputs": [
    {
     "name": "stdout",
     "output_type": "stream",
     "text": [
      "✅ Gemini API configured successfully!\n"
     ]
    }
   ],
   "source": [
    "from google import genai\n",
    "from dotenv import load_dotenv\n",
    "import os\n",
    "\n",
    "# Load environment variables\n",
    "load_dotenv()\n",
    "\n",
    "# Initialize Gemini client\n",
    "client = genai.Client(api_key=os.environ[\"GEMINI_API_KEY\"])\n",
    "\n",
    "print(\"✅ Gemini API configured successfully!\")"
   ]
  },
  {
   "cell_type": "code",
   "execution_count": 3,
   "metadata": {},
   "outputs": [
    {
     "name": "stdout",
     "output_type": "stream",
     "text": [
      "✅ Helper function with system instruction support defined!\n"
     ]
    }
   ],
   "source": [
    "from google.genai import types\n",
    "def generate_response(prompt, system_prompt=None, model_id=\"gemini-2.5-flash\"):\n",
    "    \"\"\"\n",
    "    Generate response using Google Gemini API with optional system instruction\n",
    "    \n",
    "    Args:\n",
    "        prompt: User message or main prompt\n",
    "        system_instruction: Optional system instruction to set AI behavior\n",
    "        model_id: Gemini model to use\n",
    "    \"\"\"\n",
    "    # Create config with system instruction if provided\n",
    "    config = None\n",
    "    if system_prompt:\n",
    "        config = types.GenerateContentConfig(\n",
    "            system_instruction=system_prompt\n",
    "        )\n",
    "    \n",
    "    response = client.models.generate_content(\n",
    "        model=model_id,\n",
    "        contents=prompt,\n",
    "        config=config\n",
    "    )\n",
    "    return response.text\n",
    "\n",
    "print(\"✅ Helper function with system instruction support defined!\")"
   ]
  },
  {
   "cell_type": "markdown",
   "metadata": {},
   "source": [
    "## 1. System and User Prompts\n",
    "\n",
    "System prompts set the behavior and context for the AI, while user prompts contain the actual requests."
   ]
  },
  {
   "cell_type": "code",
   "execution_count": 4,
   "metadata": {},
   "outputs": [],
   "source": [
    "# Example: Customer Service Bot with System Instruction Parameter\n",
    "\n",
    "# Define system instruction\n",
    "system_prompt = \"\"\"\n",
    "You are a helpful customer service representative for TechStore, an electronics retailer.\n",
    "Always be polite, professional, and solution-oriented.\n",
    "Keep responses concise but helpful.\n",
    "\"\"\"\n",
    "\n",
    "# Test with user message using system instruction parameter\n",
    "user_message = \"I bought a laptop last week and it won't turn on. What should I do?\""
   ]
  },
  {
   "cell_type": "code",
   "execution_count": 5,
   "metadata": {},
   "outputs": [
    {
     "name": "stdout",
     "output_type": "stream",
     "text": [
      "\n",
      "🔄 No system prompt:\n",
      "That's incredibly frustrating, especially with a brand new laptop! Don't panic, there are several things you can try. Since you just bought it, you're definitely covered by warranty, but let's go through some common troubleshooting steps first.\n",
      "\n",
      "**Before you do anything else, make sure you keep all packaging, receipts, and documentation. You'll need these for a return or warranty claim if it comes to that.**\n",
      "\n",
      "Here's what you should do, in order from simplest to more involved:\n",
      "\n",
      "---\n",
      "\n",
      "### Basic Checks & Troubleshooting\n",
      "\n",
      "1.  **Check the Power Source (Most Common Issue!):**\n",
      "    *   **Is the charger plugged in correctly?** Make sure both ends of the charger cable are firmly connected: one into the laptop's charging port and the other into a wall outlet.\n",
      "    *   **Is the wall outlet working?** Plug another device (like a phone charger or a lamp) into the same outlet to confirm it has power. If not, try a different outlet.\n",
      "    *   **Check the charger's light:** Many laptop chargers have a small LED light on the \"brick\" part. Is it on? If not, the charger itself might be faulty, or it's not getting power.\n",
      "    *   **Try another charger (if you have one compatible):** If you happen to have access to another charger for the same laptop model, try that.\n",
      "\n",
      "2.  **Give it Time to Charge:**\n",
      "    *   If the battery was completely drained, it might take a few minutes (even up to 15-30 minutes) of being plugged in before it shows any signs of life or allows you to turn it on. Plug it in and leave it for a while, then try to power it on again.\n",
      "\n",
      "3.  **Perform a Hard Reset/Power Cycle:**\n",
      "    *   **Unplug the AC adapter (charger) from the laptop.**\n",
      "    *   **If your laptop has a removable battery, remove it.** (Many newer laptops do not have easily removable batteries, skip this step if yours doesn't).\n",
      "    *   **Press and hold the power button for 15-30 seconds.** This drains any residual power from the internal components.\n",
      "    *   **Reconnect the AC adapter (but don't put the battery back in yet if you removed it).**\n",
      "    *   **Try to turn the laptop on.** If it powers on, great! If you removed the battery, power it off again, reinsert the battery, and then try turning it on normally.\n",
      "\n",
      "4.  **Disconnect All Peripherals:**\n",
      "    *   Unplug *everything* from the laptop: USB devices (mouse, keyboard, external drives), SD cards, external monitors, Ethernet cables, etc. Sometimes a faulty peripheral can prevent a laptop from booting. Once everything is disconnected, try to turn it on again.\n",
      "\n",
      "5.  **Observe for Any Signs of Life:**\n",
      "    *   When you press the power button, do you hear anything (fans spinning, faint clicks)?\n",
      "    *   Do any lights come on (power light, keyboard backlight, charging light)?\n",
      "    *   Does the screen flicker at all, even for a second?\n",
      "    *   **Beep Codes:** Some laptops emit a series of beeps if there's a hardware issue (e.g., RAM problem). Listen carefully. If you hear beeps, note the pattern (e.g., 1 long, 2 short) and look it up in your laptop's manual or on the manufacturer's support website.\n",
      "\n",
      "6.  **Try an External Monitor (If Lights Come On But No Display):**\n",
      "    *   If the laptop's power light comes on, you hear fans, but the screen remains black, it's possible the screen itself is the issue.\n",
      "    *   Connect your laptop to an external monitor or TV using an HDMI or DisplayPort cable.\n",
      "    *   Once connected, try turning on the laptop. You might need to press a key combination (often `Fn + F4`, `Fn + F5`, `Fn + F7`, or `Fn + F8` – look for an icon that looks like two monitors) to switch the display output to the external monitor. If you see an image on the external monitor, your laptop's internal screen is likely faulty.\n",
      "\n",
      "---\n",
      "\n",
      "### If None of the Above Works (or if you prefer)\n",
      "\n",
      "Since you bought the laptop **last week**, this is the most important part:\n",
      "\n",
      "1.  **Check the Retailer's Return/Exchange Policy:**\n",
      "    *   Most retailers (Best Buy, Amazon, Walmart, etc.) have a 14-day or 30-day return window for electronics. This is often the easiest and fastest solution.\n",
      "    *   **Contact the store where you bought it immediately.** Explain the situation. They will likely offer an exchange for a new one or a full refund. This is usually much quicker than going through the manufacturer's warranty repair process.\n",
      "\n",
      "2.  **Contact the Manufacturer's Support:**\n",
      "    *   If for some reason the retailer won't take it back (unlikely within a week for a faulty device), or if you prefer to deal with the manufacturer directly, find the customer support number or website in your laptop's documentation.\n",
      "    *   Explain the problem and the troubleshooting steps you've already taken. They will guide you through their warranty process, which might involve shipping it in for repair or replacement.\n",
      "\n",
      "---\n",
      "\n",
      "**Do NOT attempt to open the laptop or perform any complex internal repairs yourself.** Doing so will almost certainly void your warranty, which you definitely don't want to do on a brand new device.\n",
      "\n",
      "Good luck! I hope one of these simple fixes works, or that you can get an easy exchange.\n"
     ]
    }
   ],
   "source": [
    "print(\"\\n🔄 No system prompt:\")\n",
    "basic_response = generate_response(user_message)\n",
    "print(basic_response)"
   ]
  },
  {
   "cell_type": "code",
   "execution_count": 6,
   "metadata": {},
   "outputs": [
    {
     "name": "stdout",
     "output_type": "stream",
     "text": [
      "\n",
      "✨ With system prompt:\n",
      "I'm sorry to hear your new laptop isn't turning on! That's definitely frustrating.\n",
      "\n",
      "First, please ensure it's properly plugged into a working power outlet and the power adapter is securely connected to the laptop.\n",
      "\n",
      "If it still doesn't power on, we can certainly help. Since you just purchased it last week, it's likely covered under our return or warranty policy. Please bring your laptop and proof of purchase to any TechStore location, or contact our customer support team directly, and we'll be happy to assist you with a solution.\n"
     ]
    }
   ],
   "source": [
    "print(\"\\n✨ With system prompt:\")\n",
    "response = generate_response(user_message, system_prompt)\n",
    "print(response)"
   ]
  },
  {
   "cell_type": "markdown",
   "metadata": {},
   "source": [
    "💡 The first response (without system prompt): very long, costs more, and takes more time (15 seconds). It is also less helpful as it's less concise.\n",
    "\n",
    "💡 The second response (with system prompt): concise and helpful, took only 2 seconds. It is also cheaper."
   ]
  },
  {
   "cell_type": "markdown",
   "metadata": {},
   "source": [
    "## 2. Chat History Management\n",
    "\n",
    "Maintaining conversation context by keeping track of the chat history."
   ]
  },
  {
   "cell_type": "markdown",
   "metadata": {},
   "source": [
    "First, let's see what happens when we don't keep track of the chat history"
   ]
  },
  {
   "cell_type": "code",
   "execution_count": 7,
   "metadata": {},
   "outputs": [
    {
     "name": "stdout",
     "output_type": "stream",
     "text": [
      "💬 Conversation Example:\n",
      "\n",
      "--- Message 1 ---\n",
      "User: My computer is running slowly\n",
      "Bot: I understand that can be frustrating. Here are a few common steps that often help:\n",
      "\n",
      "1.  **Restart your computer:** This can clear temporary issues.\n",
      "2.  **Check for updates:** Ensure your operating system and drivers are current.\n",
      "3.  **Close unnecessary programs:** Too many open applications can slow things down.\n",
      "4.  **Check disk space:** A nearly full hard drive can impact performance.\n",
      "\n",
      "If these steps don't help, we can explore more detailed troubleshooting or discuss potential service options.\n",
      "\n",
      "--- Message 2 ---\n",
      "User: It's a Windows laptop, about 2 years old\n",
      "Bot: Thanks for providing that detail about your Windows laptop.\n",
      "\n",
      "To help me assist you further, could you please tell me what issue you're experiencing or what you'd like help with today?\n"
     ]
    }
   ],
   "source": [
    "print(\"💬 Conversation Example:\")\n",
    "print(\"\\n--- Message 1 ---\")\n",
    "response1 = generate_response(\"My computer is running slowly\", system_prompt)\n",
    "print(f\"User: My computer is running slowly\")\n",
    "print(f\"Bot: {response1}\")\n",
    "\n",
    "print(\"\\n--- Message 2 ---\")\n",
    "response2 = generate_response(\"It's a Windows laptop, about 2 years old\", system_prompt)\n",
    "print(f\"User: It's a Windows laptop, about 2 years old\")\n",
    "print(f\"Bot: {response2}\")"
   ]
  },
  {
   "cell_type": "markdown",
   "metadata": {},
   "source": [
    "---\n",
    "💡 As you can see, when answering the second query, model didn't have any previous context and couldn't provide a coherent response."
   ]
  },
  {
   "cell_type": "markdown",
   "metadata": {},
   "source": [
    "---\n",
    "Now let's try using chat history, so the model will \"remember\" previous interactions and will provide more coherent responses.\n",
    "\n",
    "_Important Note_: Gemini has special [chat interface](https://ai.google.dev/gemini-api/docs/text-generation#multi-turn-conversations) in their API that implements this logic. For transparency we will implement it from scratch using python classes and store chat history as a list."
   ]
  },
  {
   "cell_type": "code",
   "execution_count": 8,
   "metadata": {},
   "outputs": [],
   "source": [
    "class ChatBot:\n",
    "    def __init__(self, system_prompt):\n",
    "        self.system_prompt = system_prompt\n",
    "        self.chat_history = []\n",
    "    \n",
    "    def send_message(self, user_message):\n",
    "        # Add user message to history\n",
    "        self.chat_history.append(f\"User: {user_message}\")\n",
    "        \n",
    "        # Build full conversation context\n",
    "        conversation =  \"\\n\".join(self.chat_history) + \"\\nAssistant:\"\n",
    "        \n",
    "        # Get response\n",
    "        assistant_response = generate_response(conversation, self.system_prompt)\n",
    "        \n",
    "        # Add assistant response to history\n",
    "        self.chat_history.append(f\"Assistant: {assistant_response}\")\n",
    "        \n",
    "        return assistant_response"
   ]
  },
  {
   "cell_type": "code",
   "execution_count": 9,
   "metadata": {},
   "outputs": [
    {
     "name": "stdout",
     "output_type": "stream",
     "text": [
      "💬 Conversation Example:\n",
      "\n",
      "--- Message 1 ---\n",
      "User: My computer is running slowly\n",
      "Bot: I understand how frustrating a slow computer can be!\n",
      "\n",
      "Often, a simple restart can resolve this. If that doesn't help, you might try:\n",
      "1.  **Closing unused programs and browser tabs.**\n",
      "2.  **Checking for system updates.**\n",
      "3.  **Running a quick virus scan.**\n",
      "\n",
      "Please let me know if you've tried these or if the issue persists, and I'll be happy to provide further assistance.\n",
      "\n",
      "--- Message 2 ---\n",
      "User: It's a Windows laptop, about 2 years old\n",
      "Bot: Thank you for that additional information. A 2-year-old Windows laptop might benefit from a few specific optimizations:\n",
      "\n",
      "1.  **Run Disk Cleanup:** Search for \"Disk Cleanup\" in Windows and run it to remove temporary files and other unnecessary data.\n",
      "2.  **Check Startup Programs:** Open Task Manager (Ctrl+Shift+Esc), go to the \"Startup\" tab, and disable any non-essential programs from launching with Windows.\n",
      "3.  **Update Drivers:** Ensure your graphics and other key drivers are up to date through Windows Update or your laptop manufacturer's website.\n",
      "\n",
      "Could you let me know if you've tried any of these, or if you're comfortable trying them out?\n"
     ]
    }
   ],
   "source": [
    "# Create a chatbot instance with the system prompt\n",
    "bot = ChatBot(system_prompt)\n",
    "\n",
    "# Simulate a conversation\n",
    "print(\"💬 Conversation Example:\")\n",
    "print(\"\\n--- Message 1 ---\")\n",
    "response1 = bot.send_message(\"My computer is running slowly\")\n",
    "print(f\"User: My computer is running slowly\")\n",
    "print(f\"Bot: {response1}\")\n",
    "\n",
    "print(\"\\n--- Message 2 ---\")\n",
    "response2 = bot.send_message(\"It's a Windows laptop, about 2 years old\")\n",
    "print(f\"User: It's a Windows laptop, about 2 years old\")\n",
    "print(f\"Bot: {response2}\")"
   ]
  },
  {
   "cell_type": "markdown",
   "metadata": {},
   "source": [
    "---\n",
    "💡 _Note:_ As you can see, response to the second message is now coherent because we've provided relevant context to the model."
   ]
  },
  {
   "cell_type": "markdown",
   "metadata": {},
   "source": [
    "## 3. Task Decomposition (Chaining)\n",
    "\n",
    "Breaking complex tasks into smaller, manageable steps for better reliability."
   ]
  },
  {
   "cell_type": "code",
   "execution_count": 10,
   "metadata": {},
   "outputs": [],
   "source": [
    "# Example: Processing a refund request through multiple steps\n",
    "\n",
    "def step1_identify_items(customer_request):\n",
    "    \"\"\"Step 1: Identify which items need to be refunded\"\"\"\n",
    "    prompt = f\"\"\"\n",
    "    Extract the items that the customer wants to refund from this request.\n",
    "    Return only the item names, one per line.\n",
    "    \n",
    "    Customer request: {customer_request}\n",
    "    \n",
    "    Items to refund:\n",
    "    \"\"\"\n",
    "    \n",
    "    return generate_response(prompt).strip()\n",
    "\n",
    "def step2_check_eligibility(items, purchase_date):\n",
    "    \"\"\"Step 2: Check refund eligibility\"\"\"\n",
    "    prompt = f\"\"\"\n",
    "    Check if these items are eligible for refund based on our 30-day return policy.\n",
    "    Purchase date: {purchase_date}\n",
    "    Items: {items}\n",
    "    \n",
    "    For each item, respond with: [Item name] - ELIGIBLE or NOT ELIGIBLE (reason)\n",
    "    \"\"\"\n",
    "    \n",
    "    return generate_response(prompt).strip()\n",
    "\n",
    "def step3_generate_instructions(eligibility_results):\n",
    "    \"\"\"Step 3: Provide refund instructions\"\"\"\n",
    "    prompt = f\"\"\"\n",
    "    Based on this eligibility check, provide clear next steps for the customer.\n",
    "    Be helpful and professional.\n",
    "    \n",
    "    Eligibility results: {eligibility_results}\n",
    "    \n",
    "    Next steps:\n",
    "    \"\"\"\n",
    "    \n",
    "    return generate_response(prompt).strip()"
   ]
  },
  {
   "cell_type": "code",
   "execution_count": 11,
   "metadata": {},
   "outputs": [
    {
     "name": "stdout",
     "output_type": "stream",
     "text": [
      "🔄 Task Decomposition Example:\n",
      "Customer Request: I want to return my wireless headphones and phone case I bought 2 weeks ago. The headphones don't fit well.\n",
      "\n",
      "--- Step 1: Identify Items ---\n",
      "wireless headphones\n",
      "phone case\n",
      "\n",
      "--- Step 2: Check Eligibility ---\n",
      "To determine eligibility, we need to know the *current date* you are checking this.\n",
      "\n",
      "The 30-day return window for items purchased on 2024-12-15 ends on **2025-01-14**.\n",
      "\n",
      "Assuming the items are otherwise in returnable condition (original packaging, no damage, etc.), here's the eligibility based on when the return request is made:\n",
      "\n",
      "*   **Wireless headphones** - ELIGIBLE (if the return request is made on or before 2025-01-14) or NOT ELIGIBLE (if the return request is made after 2025-01-14, as the 30-day window has closed)\n",
      "*   **Phone case** - ELIGIBLE (if the return request is made on or before 2025-01-14) or NOT ELIGIBLE (if the return request is made after 2025-01-14, as the 30-day window has closed)\n",
      "\n",
      "--- Step 3: Generate Instructions ---\n",
      "Dear Customer,\n",
      "\n",
      "Thank you for checking the eligibility of your return for the Wireless headphones and Phone case.\n",
      "\n",
      "Based on our policy, the 30-day return window for items purchased on December 15, 2024, ends on **January 14, 2025**.\n",
      "\n",
      "To provide you with definitive next steps, we need to know the *current date* you are making this return request. Please review the scenarios below:\n",
      "\n",
      "### **Scenario 1: If your return request is made on or before January 14, 2025**\n",
      "\n",
      "*   **Eligibility:** Both your Wireless headphones and Phone case are **ELIGIBLE** for return.\n",
      "*   **Important Condition:** Please ensure the items are otherwise in returnable condition (i.e., in their original packaging, undamaged, and complete with all accessories).\n",
      "*   **Next Steps:**\n",
      "    1.  **Prepare your items:** Ensure both the Wireless headphones and Phone case are in their original, undamaged condition with all original packaging and accessories.\n",
      "    2.  **Initiate your return:** Visit our online Returns Portal at [Insert Returns Portal Link Here] and follow the prompts to start your return. Alternatively, you can contact our customer service team directly with your order number, and we will guide you through the process, including providing a return label and shipping instructions.\n",
      "\n",
      "### **Scenario 2: If your return request is made after January 14, 2025**\n",
      "\n",
      "*   **Eligibility:** The 30-day return window for these items has unfortunately closed. Therefore, both the Wireless headphones and Phone case are **NOT ELIGIBLE** for a standard return under our policy.\n",
      "*   **Next Steps:** A standard return cannot be processed at this time.\n",
      "\n",
      "If you have any further questions or require assistance, please do not hesitate to contact us.\n",
      "\n",
      "Sincerely,\n",
      "\n",
      "[Your Company Name/Customer Service Team]\n"
     ]
    }
   ],
   "source": [
    "# Example usage\n",
    "customer_request = \"I want to return my wireless headphones and phone case I bought 2 weeks ago. The headphones don't fit well.\"\n",
    "purchase_date = \"2024-12-15\"\n",
    "\n",
    "print(\"🔄 Task Decomposition Example:\")\n",
    "print(f\"Customer Request: {customer_request}\")\n",
    "print(\"\\n--- Step 1: Identify Items ---\")\n",
    "items = step1_identify_items(customer_request)\n",
    "print(items)\n",
    "\n",
    "print(\"\\n--- Step 2: Check Eligibility ---\")\n",
    "eligibility = step2_check_eligibility(items, purchase_date)\n",
    "print(eligibility)\n",
    "\n",
    "print(\"\\n--- Step 3: Generate Instructions ---\")\n",
    "instructions = step3_generate_instructions(eligibility)\n",
    "print(instructions)"
   ]
  },
  {
   "cell_type": "markdown",
   "metadata": {},
   "source": [
    "---\n",
    "💡 Breaking down complex tasks, makes model less prone to errors and makes it easier to debug such workflows.\n",
    "**Divide and conquer.**"
   ]
  },
  {
   "cell_type": "markdown",
   "metadata": {},
   "source": [
    "## 4. Few-Shot Prompting (In-Context Learning)\n",
    "\n",
    "Providing examples to guide the model's behavior and output format."
   ]
  },
  {
   "cell_type": "code",
   "execution_count": 12,
   "metadata": {},
   "outputs": [],
   "source": [
    "# Example: Sentiment analysis with few-shot prompting\n",
    "\n",
    "def analyze_sentiment_few_shot(customer_message):\n",
    "    prompt = f\"\"\"\n",
    "    Analyze the sentiment of customer messages and categorize them as POSITIVE, NEGATIVE, or NEUTRAL.\n",
    "    Also provide a brief reason.\n",
    "    \n",
    "    Examples:\n",
    "    \n",
    "    Message: \"I love this product! It works perfectly and arrived quickly.\"\n",
    "    Sentiment: POSITIVE\n",
    "    Reason: Customer expresses satisfaction with product quality and delivery\n",
    "    \n",
    "    Message: \"The item is okay, nothing special but does what it's supposed to do.\"\n",
    "    Sentiment: NEUTRAL\n",
    "    Reason: Customer shows neither strong satisfaction nor dissatisfaction\n",
    "    \n",
    "    Message: \"Terrible quality! Broke after one day and customer service was rude.\"\n",
    "    Sentiment: NEGATIVE\n",
    "    Reason: Customer reports product failure and poor service experience\n",
    "    \n",
    "    Now analyze this message:\n",
    "    Message: \"{customer_message}\"\n",
    "    Sentiment:\n",
    "    Reason:\n",
    "    \"\"\"\n",
    "    \n",
    "    return generate_response(prompt).strip()"
   ]
  },
  {
   "cell_type": "code",
   "execution_count": 13,
   "metadata": {},
   "outputs": [
    {
     "name": "stdout",
     "output_type": "stream",
     "text": [
      "🎯 Few-Shot Prompting Example:\n",
      "\n",
      "--- Test 1 ---\n",
      "Message: The delivery was delayed but the product quality is amazing!\n",
      "Sentiment: POSITIVE\n",
      "Reason: Customer expresses strong satisfaction with the product quality, which outweighs the negative experience of delayed delivery.\n",
      "\n",
      "--- Test 2 ---\n",
      "Message: I'm not sure if this is worth the price, it's just average\n",
      "Sentiment: NEUTRAL\n",
      "Reason: Customer expresses uncertainty about value and describes the item as ordinary or satisfactory, showing no strong positive or negative sentiment.\n",
      "\n",
      "--- Test 3 ---\n",
      "Message: Worst purchase ever! Complete waste of money!\n",
      "Sentiment: NEGATIVE\n",
      "Reason: Customer uses strong negative language (\"worst purchase,\" \"complete waste of money\") to express extreme dissatisfaction and regret.\n"
     ]
    }
   ],
   "source": [
    "# Test with different messages\n",
    "test_messages = [\n",
    "    \"The delivery was delayed but the product quality is amazing!\",\n",
    "    \"I'm not sure if this is worth the price, it's just average\",\n",
    "    \"Worst purchase ever! Complete waste of money!\"\n",
    "]\n",
    "\n",
    "print(\"🎯 Few-Shot Prompting Example:\")\n",
    "for i, message in enumerate(test_messages, 1):\n",
    "    print(f\"\\n--- Test {i} ---\")\n",
    "    print(f\"Message: {message}\")\n",
    "    result = analyze_sentiment_few_shot(message)\n",
    "    print(result)"
   ]
  },
  {
   "cell_type": "markdown",
   "metadata": {},
   "source": [
    "---\n",
    "💡 With examples of input/output pairs we can better steer the model's behaviour and output format."
   ]
  },
  {
   "cell_type": "markdown",
   "metadata": {},
   "source": [
    "## 5. Chain-of-Thought Prompting\n",
    "\n",
    "Encouraging the model to show its reasoning process step by step."
   ]
  },
  {
   "cell_type": "code",
   "execution_count": 14,
   "metadata": {},
   "outputs": [],
   "source": [
    "# Example: Troubleshooting with chain-of-thought reasoning\n",
    "\n",
    "def troubleshoot_with_reasoning(problem_description):\n",
    "    prompt = f\"\"\"\n",
    "    Help troubleshoot this technical problem. Think through it step by step and show your reasoning.\n",
    "    \n",
    "    Example of good reasoning:\n",
    "    Problem: \"My phone won't charge when I plug it in\"\n",
    "    \n",
    "    Let me think through this step by step:\n",
    "    1. First, I need to identify possible causes: faulty cable, damaged port, dead battery, or software issue\n",
    "    2. The most common cause is usually the charging cable or adapter\n",
    "    3. Next most likely is debris in the charging port\n",
    "    4. Less likely but possible: battery completely dead or software glitch\n",
    "    \n",
    "    Based on this reasoning, here's what to try:\n",
    "    - Try a different charging cable and adapter first\n",
    "    - Check the charging port for lint or debris\n",
    "    - Try a different power outlet\n",
    "    - If none work, try a force restart\n",
    "    \n",
    "    Now solve this problem using the same step-by-step approach:\n",
    "    Problem: \"{problem_description}\"\n",
    "    \n",
    "    Let me think through this step by step:\n",
    "    \"\"\"\n",
    "    \n",
    "    return generate_response(prompt).strip()"
   ]
  },
  {
   "cell_type": "code",
   "execution_count": 15,
   "metadata": {},
   "outputs": [
    {
     "name": "stdout",
     "output_type": "stream",
     "text": [
      "🧠 Chain-of-Thought Example:\n",
      "Problem: My laptop keeps freezing when I try to open multiple applications\n",
      "\n",
      "AI Reasoning:\n",
      "Let me think through this step by step:\n",
      "\n",
      "1.  **First, I need to identify possible causes:** When a laptop freezes opening multiple applications, it strongly suggests a resource limitation or software conflict.\n",
      "    *   **Resource Exhaustion:** The most common culprit. This means the laptop doesn't have enough RAM (memory) or CPU (processor) power to handle all the applications simultaneously.\n",
      "    *   **Overheating:** When the CPU or GPU gets too hot, they automatically slow down (throttle) or even shut down to prevent damage, which can manifest as freezing.\n",
      "    *   **Outdated/Corrupt Drivers:** Graphics drivers, chipset drivers, or other system drivers can cause instability when under load.\n",
      "    *   **Too Many Background Processes:** Even if not explicitly opened, many programs run in the background, consuming resources.\n",
      "    *   **Malware/Viruses:** Malicious software can secretly consume significant system resources.\n",
      "    *   **Corrupted System Files:** Core Windows files or application files might be damaged, leading to instability.\n",
      "    *   **Failing Hardware:** Less common but possible, a failing hard drive/SSD or RAM can cause system freezes.\n",
      "\n",
      "2.  **Prioritize causes (most common to least):**\n",
      "    *   **Most Common/Likely:** Resource exhaustion (RAM/CPU) due to insufficient hardware for the workload, or too many background processes. This is often exacerbated by outdated drivers.\n",
      "    *   **Next Most Likely:** Overheating, especially if the laptop is older or gets hot to the touch. Malware or corrupted system files are also significant possibilities.\n",
      "    *   **Less Likely but Possible:** Actual hardware failure (RAM, storage drive).\n",
      "\n",
      "Based on this reasoning, here's what to try:\n",
      "\n",
      "1.  **Monitor Resource Usage:**\n",
      "    *   **Action:** Open Task Manager (Ctrl+Shift+Esc) *before* opening multiple applications. Observe the CPU, Memory, and Disk usage tabs. Then, try opening your applications and see which resource spikes and reaches 100%. This will tell you if you're running out of RAM, maxing out your CPU, or if your disk is a bottleneck.\n",
      "    *   **Reasoning:** Directly diagnoses if resource exhaustion is the primary cause and identifies which resource (CPU, RAM, Disk) is the bottleneck.\n",
      "\n",
      "2.  **Close Unnecessary Background Applications/Processes:**\n",
      "    *   **Action:** In Task Manager, go to the \"Processes\" tab and sort by CPU or Memory. Close any applications you're not actively using. Also, check \"Startup\" tab and disable non-essential programs from launching with Windows.\n",
      "    *   **Reasoning:** Reduces the overall load on your system, freeing up resources for the applications you want to use.\n",
      "\n",
      "3.  **Update Drivers and Windows:**\n",
      "    *   **Action:**\n",
      "        *   Go to Windows Settings > Update & Security > Windows Update and install all pending updates.\n",
      "        *   Visit your laptop manufacturer's website (e.g., Dell, HP, Lenovo) and download the latest graphics (Intel, AMD, Nvidia) and chipset drivers for your specific model.\n",
      "    *   **Reasoning:** Outdated drivers can cause instability and poor performance, leading to freezes, especially under load. Windows updates often include performance improvements and bug fixes.\n",
      "\n",
      "4.  **Check for Overheating:**\n",
      "    *   **Action:** Listen for unusually loud fan noise. Feel if the laptop is excessively hot, especially near the vents. Consider using a free temperature monitoring tool (like HWMonitor or Core Temp) to check CPU/GPU temperatures while trying to open applications. Ensure vents are clear of dust.\n",
      "    *   **Reasoning:** Overheating causes throttling and can lead to freezing. Identifying this allows you to take steps like cleaning vents or using a cooling pad.\n",
      "\n",
      "5.  **Scan for Malware:**\n",
      "    *   **Action:** Run a full scan using Windows Defender or a reputable third-party antivirus software.\n",
      "    *   **Reasoning:** Malware can silently consume significant system resources, leading to slowdowns and freezes.\n",
      "\n",
      "6.  **Run System File Checker:**\n",
      "    *   **Action:** Open Command Prompt as an administrator (search \"cmd\", right-click, \"Run as administrator\") and type `sfc /scannow` then press Enter. Let it complete.\n",
      "    *   **Reasoning:** This command scans for and repairs corrupted Windows system files which can cause instability.\n",
      "\n",
      "7.  **Consider Hardware Limitations/Upgrade:**\n",
      "    *   **Action (if previous steps don't resolve):** If Task Manager consistently shows 100% CPU/Memory usage when opening multiple apps and your laptop is old, you might genuinely need more RAM or a faster SSD.\n",
      "    *   **Reasoning:** Sometimes, the hardware simply isn't powerful enough for the desired workload. An upgrade might be necessary.\n"
     ]
    }
   ],
   "source": [
    "\n",
    "# Test with a technical problem\n",
    "problem = \"My laptop keeps freezing when I try to open multiple applications\"\n",
    "\n",
    "print(\"🧠 Chain-of-Thought Example:\")\n",
    "print(f\"Problem: {problem}\")\n",
    "print(\"\\nAI Reasoning:\")\n",
    "solution = troubleshoot_with_reasoning(problem)\n",
    "print(solution)"
   ]
  },
  {
   "cell_type": "markdown",
   "metadata": {},
   "source": [
    "---\n",
    "💡  Asking the model to reason through a task step by step significantly improves its performance, especially on reasoning-heavy tasks."
   ]
  },
  {
   "cell_type": "markdown",
   "metadata": {},
   "source": [
    "## Key Takeaways\n",
    "\n",
    "1. **System Prompts**: Set clear behavior and context upfront\n",
    "2. **Chat History**: Maintain conversation context for coherent interactions\n",
    "3. **Task Decomposition**: Break complex tasks into manageable steps\n",
    "4. **Few-Shot Prompting**: Use examples to guide model behavior\n",
    "5. **Chain-of-Thought**: Encourage step-by-step reasoning for better results\n",
    "\n",
    "## Next Steps\n",
    "\n",
    "- Experiment with different system prompts\n",
    "- Try combining techniques for your specific use case\n",
    "- Test with real user scenarios\n",
    "- Monitor and iterate based on performance\n",
    "\n",
    "Remember: **Learn by building!** 🚀"
   ]
  }
 ],
 "metadata": {
  "kernelspec": {
   "display_name": ".venv",
   "language": "python",
   "name": "python3"
  },
  "language_info": {
   "codemirror_mode": {
    "name": "ipython",
    "version": 3
   },
   "file_extension": ".py",
   "mimetype": "text/x-python",
   "name": "python",
   "nbconvert_exporter": "python",
   "pygments_lexer": "ipython3",
   "version": "3.9.13"
  }
 },
 "nbformat": 4,
 "nbformat_minor": 4
}
