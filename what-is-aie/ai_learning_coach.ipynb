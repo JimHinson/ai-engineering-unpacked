{
 "cells": [
  {
   "cell_type": "markdown",
   "metadata": {},
   "source": [
    "# AI Learning Coach Chatbot\n",
    "\n",
    "A simple example demonstrating how to use LLMs through API for educational purposes.\n",
    "\n",
    "This notebook shows:\n",
    "- How to connect to Google Gemini API\n",
    "- Simple Q&A functionality\n",
    "- Query routing to specialized \"coaches\"\n",
    "- Interactive chatbot experience\n",
    "\n",
    "## Setup\n",
    "\n",
    "**📖 To get started, see the [README.md](README.md) for complete setup instructions including project cloning and environment setup.**\n",
    "\n",
    "Quick checklist - make sure you have:\n",
    "1. Installed required packages: `pip install -r what-is-aie/requirements.txt`\n",
    "2. Obtained API key from [Google AI Studio](https://aistudio.google.com/)\n",
    "3. Created a `.env` file with your `GEMINI_API_KEY`"
   ]
  },
  {
   "cell_type": "code",
   "execution_count": 1,
   "metadata": {},
   "outputs": [
    {
     "name": "stdout",
     "output_type": "stream",
     "text": [
      "✅ Setup complete! API client initialized.\n"
     ]
    }
   ],
   "source": [
    "# Import required libraries\n",
    "from google import genai\n",
    "from dotenv import load_dotenv\n",
    "import os\n",
    "\n",
    "# Load environment variables\n",
    "load_dotenv()\n",
    "\n",
    "# Initialize Gemini client\n",
    "client = genai.Client(api_key=os.environ[\"GEMINI_API_KEY\"])\n",
    "\n",
    "print(\"✅ Setup complete! API client initialized.\")"
   ]
  },
  {
   "cell_type": "markdown",
   "metadata": {},
   "source": [
    "## Part 1: Simple Q&A Functionality\n",
    "\n",
    "Let's start with a basic AI coach that can answer any question with educational context."
   ]
  },
  {
   "cell_type": "code",
   "execution_count": 2,
   "metadata": {},
   "outputs": [],
   "source": [
    "def generate_response(prompt, client=client, model_id=\"gemini-2.0-flash\"):\n",
    "    \"\"\"\n",
    "    Generate response using Google Gemini API\n",
    "    \"\"\"\n",
    "    response = client.models.generate_content(\n",
    "        model=model_id,\n",
    "        contents=prompt,\n",
    "    )\n",
    "    return response.text"
   ]
  },
  {
   "cell_type": "markdown",
   "metadata": {},
   "source": [
    "Next, let's define a function that takes a user's question and adds educational context to create a specialized prompt for our AI Learning Coach."
   ]
  },
  {
   "cell_type": "code",
   "execution_count": 3,
   "metadata": {},
   "outputs": [],
   "source": [
    "def simple_ai_coach(question):\n",
    "    base_prompt = f\"\"\"You are an AI Learning Coach. You help students learn about AI concepts, \n",
    "    Python programming, and career guidance in technology. \n",
    "    \n",
    "    Please provide a clear, educational answer to this question: {question}\n",
    "    \n",
    "    Keep your response short but informative, suitable for someone learning about AI and programming.\"\"\"\n",
    "    \n",
    "    return generate_response(base_prompt)"
   ]
  },
  {
   "cell_type": "code",
   "execution_count": 4,
   "metadata": {},
   "outputs": [
    {
     "name": "stdout",
     "output_type": "stream",
     "text": [
      "Q: What is deep learning?\n",
      "A: Okay, here's a clear and concise explanation of deep learning:\n",
      "\n",
      "**Deep learning is a subfield of machine learning that uses artificial neural networks with many layers (hence \"deep\") to analyze data.**\n",
      "\n",
      "Think of it like this:\n",
      "\n",
      "*   **Machine Learning:** A broad field where computers learn from data without being explicitly programmed.\n",
      "*   **Neural Networks:** Inspired by the human brain, these networks consist of interconnected nodes (neurons) that process information.\n",
      "*   **Deep Learning:** Neural networks with many layers. These layers allow the network to learn complex patterns and representations from raw data, like images, text, or sound, automatically extracting features that would traditionally need to be engineered by hand. This feature extraction capability is a key advantage.\n",
      "\n",
      "**In short:** Deep learning excels at tasks like image recognition, natural language processing, and more because it can automatically learn intricate features from data using deep, multi-layered neural networks.\n",
      "\n",
      "I can provide more information and examples if you'd like! Let me know if you want to dig deeper.\n",
      "\n"
     ]
    }
   ],
   "source": [
    "question = \"What is deep learning?\"\n",
    "print(f\"Q: {question}\")\n",
    "print(f\"A: {simple_ai_coach(question)}\")"
   ]
  },
  {
   "cell_type": "markdown",
   "metadata": {},
   "source": [
    "## Part 2: Query Routing System\n",
    "\n",
    "Now let's add intelligence to route questions to specialized \"coaches\" based on the topic."
   ]
  },
  {
   "cell_type": "markdown",
   "metadata": {},
   "source": [
    "Let's create a function that uses LLM to analyze the query and determine which specialist should handle it."
   ]
  },
  {
   "cell_type": "code",
   "execution_count": 5,
   "metadata": {},
   "outputs": [],
   "source": [
    "def route_query(question):\n",
    "    router_prompt = f\"\"\"You are a query router for an AI Learning Coach system.\n",
    "    \n",
    "    Analyze the following question and determine which specialist should handle it:\n",
    "    \n",
    "    - AI_CONCEPTS: Questions about artificial intelligence, machine learning, deep learning, neural networks, algorithms, etc.\n",
    "    - PYTHON_CODING: Questions about Python programming, syntax, libraries, debugging, code examples, etc.\n",
    "    - CAREER_GUIDANCE: Questions about career paths, skills needed, job market, education, professional development, etc.\n",
    "    - GENERAL: Questions that don't fit the above categories or are too broad\n",
    "    \n",
    "    Respond with ONLY one of these four options: [AI_CONCEPTS, PYTHON_CODING, CAREER_GUIDANCE, GENERAL]\n",
    "    \n",
    "    Question: {question}\"\"\"\n",
    "    \n",
    "    route = generate_response(router_prompt).strip()\n",
    "    return route"
   ]
  },
  {
   "cell_type": "code",
   "execution_count": 6,
   "metadata": {},
   "outputs": [
    {
     "name": "stdout",
     "output_type": "stream",
     "text": [
      "=== Routing Demo ===\n",
      "Q: What is deep learning?\n",
      "Route: AI_CONCEPTS\n",
      "\n",
      "Q: How do I create a Python function?\n",
      "Route: PYTHON_CODING\n",
      "\n",
      "Q: What skills do I need for a data science job?\n",
      "Route: CAREER_GUIDANCE\n",
      "\n"
     ]
    }
   ],
   "source": [
    "# Test routing\n",
    "test_questions = [\n",
    "    \"What is deep learning?\",\n",
    "    \"How do I create a Python function?\",\n",
    "    \"What skills do I need for a data science job?\"\n",
    "]\n",
    "\n",
    "print(\"=== Routing Demo ===\")\n",
    "for q in test_questions:\n",
    "    route = route_query(q)\n",
    "    print(f\"Q: {q}\")\n",
    "    print(f\"Route: {route}\\n\")"
   ]
  },
  {
   "cell_type": "markdown",
   "metadata": {},
   "source": [
    "## Part 3: Specialized Coaches\n",
    "\n",
    "Each specialist has a unique personality and expertise area with tailored prompts."
   ]
  },
  {
   "cell_type": "code",
   "execution_count": 7,
   "metadata": {},
   "outputs": [
    {
     "name": "stdout",
     "output_type": "stream",
     "text": [
      "✅ Specialized coaches defined!\n"
     ]
    }
   ],
   "source": [
    "def ai_concepts_coach(question):\n",
    "    \"\"\"Specialist for AI concepts and theory\"\"\"\n",
    "    specialist_prompt = f\"\"\"You are an AI Concepts Specialist. You excel at explaining artificial intelligence, \n",
    "    machine learning, deep learning, neural networks, and related technical concepts.\n",
    "    \n",
    "    Your teaching style:\n",
    "    - Use clear, simple language\n",
    "    - Provide concrete examples\n",
    "    - Break down complex concepts into digestible parts\n",
    "    - Include real-world applications when relevant\n",
    "    \n",
    "    Question: {question}\"\"\"\n",
    "    \n",
    "    return generate_response(specialist_prompt)\n",
    "\n",
    "def python_coding_coach(question):\n",
    "    \"\"\"Specialist for Python programming\"\"\"\n",
    "    specialist_prompt = f\"\"\"You are a Python Coding Specialist. You help students learn Python programming,\n",
    "    from basic syntax to advanced concepts, including libraries commonly used in AI/ML.\n",
    "    \n",
    "    Your teaching style:\n",
    "    - Provide working code examples\n",
    "    - Explain code step-by-step\n",
    "    - Suggest best practices\n",
    "    - Include comments in code\n",
    "    - Mention relevant libraries when appropriate\n",
    "    \n",
    "    Question: {question}\"\"\"\n",
    "    \n",
    "    return generate_response(specialist_prompt)\n",
    "\n",
    "def career_guidance_coach(question):\n",
    "    \"\"\"Specialist for career guidance in AI/tech\"\"\"\n",
    "    specialist_prompt = f\"\"\"You are a Career Guidance Specialist focused on AI and technology careers.\n",
    "    You help students understand career paths, required skills, and professional development.\n",
    "    \n",
    "    Your guidance style:\n",
    "    - Provide practical, actionable advice\n",
    "    - Mention specific skills and technologies\n",
    "    - Include learning resources when relevant\n",
    "    - Be realistic about timelines and expectations\n",
    "    - Consider different experience levels\n",
    "    \n",
    "    Question: {question}\"\"\"\n",
    "    \n",
    "    return generate_response(specialist_prompt)\n",
    "\n",
    "def general_coach(question):\n",
    "    \"\"\"General coach for questions that don't fit specific categories\"\"\"\n",
    "    specialist_prompt = f\"\"\"You are a General AI Learning Coach. Handle this question with educational focus,\n",
    "    providing helpful information while staying within the scope of AI, programming, and technology learning.\n",
    "    \n",
    "    Question: {question}\"\"\"\n",
    "    \n",
    "    return generate_response(specialist_prompt)\n",
    "\n",
    "print(\"✅ Specialized coaches defined!\")"
   ]
  },
  {
   "cell_type": "markdown",
   "metadata": {},
   "source": [
    "## Part 4: Smart AI Coach with Routing\n",
    "\n",
    "This combines routing with specialized responses for an intelligent chatbot experience."
   ]
  },
  {
   "cell_type": "markdown",
   "metadata": {},
   "source": [
    "\n",
    "Let's create main function that routes questions to appropriate specialists.\n",
    "\n",
    "It will return the routing decision and specialist response."
   ]
  },
  {
   "cell_type": "code",
   "execution_count": 8,
   "metadata": {},
   "outputs": [],
   "source": [
    "def smart_ai_coach(question):\n",
    "    # Route the query\n",
    "    route = route_query(question)\n",
    "    \n",
    "    # Get response from appropriate specialist\n",
    "    if route == \"AI_CONCEPTS\":\n",
    "        response = ai_concepts_coach(question)\n",
    "    elif route == \"PYTHON_CODING\":\n",
    "        response = python_coding_coach(question)\n",
    "    elif route == \"CAREER_GUIDANCE\":\n",
    "        response = career_guidance_coach(question)\n",
    "    else:\n",
    "        response = general_coach(question)\n",
    "    \n",
    "    return route, response"
   ]
  },
  {
   "cell_type": "code",
   "execution_count": 9,
   "metadata": {},
   "outputs": [
    {
     "name": "stdout",
     "output_type": "stream",
     "text": [
      "=== Smart AI Coach Demo ===\n",
      "Q: How do neural networks learn?\n",
      "🎯 Routed to: AI_CONCEPTS\n",
      "💡 Answer: Alright, let's talk about how neural networks learn! It's a fascinating process, and once you understand the basic principles, you'll see just how powerful these systems can be.\n",
      "\n",
      "Think of a neural network as a student learning to identify pictures of cats. At first, the student doesn't know what a cat looks like. But after seeing many examples and getting feedback, they gradually learn to recognize cats. That's essentially what a neural network does! Here's a breakdown of how it works:\n",
      "\n",
      "**1. The Network's \"Brain\" (Neurons and Connections)**\n",
      "\n",
      "*   **Neurons (Nodes):** Imagine tiny decision-making units. Each neuron receives input, performs a calculation, and then produces an output.\n",
      "*   **Connections (Weights):** These connections link neurons together. Each connection has a \"weight\" associated with it. Think of the weight as the strength of the connection. Some connections are strong (important), while others are weak (less important).\n",
      "*   **Layers:** Neurons are organized into layers. The main layers are:\n",
      "    *   **Input Layer:** Receives the initial data (e.g., the pixels of an image).\n",
      "    *   **Hidden Layers:** Perform the complex calculations. A neural network can have many hidden layers (this is what makes \"deep\" learning deep!).\n",
      "    *   **Output Layer:** Produces the final result (e.g., \"cat\" or \"not cat\").\n",
      "\n",
      "**2. The Learning Process: A Cycle of Prediction and Adjustment**\n",
      "\n",
      "Neural networks learn through a process called **training**, which involves feeding the network lots of data and adjusting the weights of the connections until it can make accurate predictions. Here's how it works step-by-step:\n",
      "\n",
      "*   **Forward Pass (Making a Prediction):**\n",
      "    1.  **Input:** The network receives input data (e.g., a picture of something).\n",
      "    2.  **Calculation:** The input travels through the network, with each neuron performing a calculation based on the input it receives and the weights of the connections.\n",
      "    3.  **Output:** The network produces a prediction (e.g., \"This is 80% likely to be a cat\").\n",
      "\n",
      "*   **Loss Function (Measuring the Error):**\n",
      "    *   The network compares its prediction to the actual correct answer (e.g., \"This *is* a cat\").\n",
      "    *   A **loss function** calculates how wrong the network's prediction was.  Think of it as a penalty for making a mistake. For example, if it predicted 80% likely a cat but it was a cat, the penalty isn't as bad compared to it predicting 20% likely a cat.\n",
      "\n",
      "*   **Backpropagation (Learning from Mistakes):**\n",
      "    *   This is the crucial step where the network learns from its mistakes.\n",
      "    *   Using the loss function's output, the network calculates how much each weight in the network contributed to the error.\n",
      "    *   It then adjusts the weights in the *opposite* direction of the error. Think of it like fine-tuning the knobs on a machine until it produces the desired output. Stronger weights will have a bigger impact and be adjusted accordingly.\n",
      "\n",
      "*   **Optimization (Refining the Adjustments):**\n",
      "    *   **Optimization algorithms** are used to make the weight adjustments more efficient and effective. These algorithms prevent overshooting/missing the 'best' weights, and help avoid getting stuck at a suboptimal position. A common algorithm is gradient descent.\n",
      "    *   These algorithms ensure that the network learns at a good pace without overreacting to individual examples.\n",
      "\n",
      "*   **Repeat:** The network repeats this process (forward pass, loss calculation, backpropagation, optimization) many times with different data examples. With each repetition, the network's weights are refined, and it becomes better at making accurate predictions.\n",
      "\n",
      "**3. Analogy: Adjusting the Knobs on a Machine**\n",
      "\n",
      "Imagine you have a machine with lots of knobs, and you want to adjust the knobs so that the machine produces a specific output. You try a setting, measure the output, and see how far off you are from the desired result. Then, you carefully adjust the knobs based on how much each knob contributed to the error. You repeat this process until the machine produces the desired output. That's essentially what a neural network does!\n",
      "\n",
      "**Real-World Examples:**\n",
      "\n",
      "*   **Image Recognition:** Training a neural network on millions of images to recognize different objects (cats, dogs, cars, etc.).\n",
      "*   **Natural Language Processing:** Training a neural network on large amounts of text data to understand and generate human language (e.g., chatbots, machine translation).\n",
      "*   **Recommendation Systems:** Training a neural network on user data (e.g., purchase history, ratings) to recommend products or services (e.g., Netflix movie recommendations).\n",
      "\n",
      "**Key Takeaways:**\n",
      "\n",
      "*   Neural networks learn by adjusting the weights of connections between neurons.\n",
      "*   The learning process involves making predictions, measuring the error, and then adjusting the weights to reduce the error.\n",
      "*   Backpropagation and optimization algorithms are crucial for efficient learning.\n",
      "*   Neural networks require large amounts of data to train effectively.\n",
      "\n",
      "I hope this explanation helps! Let me know if you have any more questions.\n",
      "\n"
     ]
    }
   ],
   "source": [
    "# Demo the smart coach\n",
    "print(\"=== Smart AI Coach Demo ===\")\n",
    "demo_question = \"How do neural networks learn?\"\n",
    "route, response = smart_ai_coach(demo_question)\n",
    "\n",
    "print(f\"Q: {demo_question}\")\n",
    "print(f\"🎯 Routed to: {route}\")\n",
    "print(f\"💡 Answer: {response}\")"
   ]
  },
  {
   "cell_type": "markdown",
   "metadata": {},
   "source": [
    "## Part 5: Interactive Chat Experience\n",
    "\n",
    "Try the interactive coach! Ask questions about AI concepts, Python coding, or career guidance."
   ]
  },
  {
   "cell_type": "code",
   "execution_count": 10,
   "metadata": {},
   "outputs": [],
   "source": [
    "def interactive_coach():\n",
    "    \"\"\"\n",
    "    Interactive function for Jupyter notebooks\n",
    "    \"\"\"\n",
    "    print(\"🤖 AI Learning Coach is ready!\")\n",
    "    print(\"Ask me about AI concepts, Python coding, or career guidance.\")\n",
    "    print(\"Type 'quit' to exit.\\n\")\n",
    "    \n",
    "    # Loop for messaging\n",
    "    while True:\n",
    "        # Get user question\n",
    "        question = input(\"Your question: \")\n",
    "        \n",
    "        # Exit the loop if user says 'quit', 'exit', or 'bye'\n",
    "        if question.lower() in ['quit', 'exit', 'bye']:\n",
    "            print(\"Happy learning! 🚀\")\n",
    "            break\n",
    "\n",
    "        # Answer the question with specialized coach\n",
    "        if question.strip():\n",
    "            route, response = smart_ai_coach(question)\n",
    "            print(f\"\\n🎯 Routed to: {route}\")\n",
    "            print(f\"💡 Answer: {response}\\n\")\n",
    "            print(\"-\" * 60)"
   ]
  },
  {
   "cell_type": "code",
   "execution_count": 11,
   "metadata": {},
   "outputs": [
    {
     "name": "stdout",
     "output_type": "stream",
     "text": [
      "🤖 AI Learning Coach is ready!\n",
      "Ask me about AI concepts, Python coding, or career guidance.\n",
      "Type 'quit' to exit.\n",
      "\n",
      "\n",
      "🎯 Routed to: AI_CONCEPTS\n",
      "💡 Answer: Alright, let's dive into prompt engineering! Imagine you're trying to teach a puppy a new trick. You wouldn't just yell \"trick!\" and expect it to know what to do, right? You'd use specific commands, maybe show it what you want, and reward it for getting closer to the desired outcome.\n",
      "\n",
      "Prompt engineering is similar. It's essentially the art and science of crafting effective instructions (or \"prompts\") to get a large language model (LLM) like me to produce the *best* possible output.\n",
      "\n",
      "Think of LLMs like incredibly smart, but sometimes a little clueless, students. They have a ton of knowledge stored in their \"brains\" (their massive datasets), but they need clear instructions to access and use that knowledge effectively. That's where prompt engineering comes in.\n",
      "\n",
      "**Here's the breakdown in simple terms:**\n",
      "\n",
      "*   **Prompt:** This is the input you give to the LLM. It's the question, command, or instruction you want it to respond to. Think of it as your request to the student.\n",
      "*   **Engineering:** This is the process of designing and refining that prompt to get the desired result. It's like tweaking your teaching method until the student fully understands.\n",
      "\n",
      "**Why is prompt engineering important?**\n",
      "\n",
      "The quality of your prompt *directly* affects the quality of the LLM's output. A poorly worded prompt can lead to:\n",
      "\n",
      "*   **Irrelevant answers:** The LLM might misunderstand what you're asking and give you something completely off-topic.\n",
      "*   **Vague or incomplete responses:** The LLM might not have enough information to provide a thorough answer.\n",
      "*   **Biased or inaccurate information:** LLMs can sometimes perpetuate biases present in their training data, and a poorly designed prompt can exacerbate this issue.\n",
      "*   **Uncreative or generic content:** If you want something truly original, you need to guide the LLM effectively.\n",
      "\n",
      "**Let's look at some examples:**\n",
      "\n",
      "**Bad Prompt:** \"Write something about cats.\"\n",
      "\n",
      "This is too broad. The LLM has no idea what you're looking for. It could write a poem, a news article, a scientific paper, or a recipe for cat food!\n",
      "\n",
      "**Good Prompt:** \"Write a short, humorous poem about a cat who thinks he's a king, using rhyming couplets.\"\n",
      "\n",
      "This prompt is much more specific. It tells the LLM:\n",
      "\n",
      "*   **What to write about:** A cat who thinks he's a king.\n",
      "*   **The type of writing:** A humorous poem.\n",
      "*   **The structure:** Rhyming couplets.\n",
      "*   **The length:** Short.\n",
      "\n",
      "The result will likely be much closer to what you had in mind.\n",
      "\n",
      "**Key techniques used in prompt engineering:**\n",
      "\n",
      "*   **Zero-shot prompting:** Asking the LLM to complete a task without any examples. This is like asking the student to solve a problem without showing them how.\n",
      "*   **Few-shot prompting:** Providing a few examples to guide the LLM. This is like showing the student a few worked-out problems before asking them to solve one on their own.\n",
      "*   **Chain-of-thought prompting:** Guiding the LLM to break down a complex problem into smaller steps. This is like teaching the student to think through a problem logically, step-by-step.\n",
      "*   **Role prompting:** Asking the LLM to act as a specific person or character. This is like asking the student to role-play a historical figure.\n",
      "\n",
      "**Real-world applications of prompt engineering:**\n",
      "\n",
      "*   **Content creation:** Generating blog posts, articles, marketing copy, and even scripts.\n",
      "*   **Customer service:** Building chatbots that can answer customer questions accurately and efficiently.\n",
      "*   **Code generation:** Helping developers write code faster.\n",
      "*   **Data analysis:** Extracting insights from large datasets.\n",
      "*   **Education:** Creating personalized learning experiences.\n",
      "\n",
      "**In conclusion:**\n",
      "\n",
      "Prompt engineering is a critical skill for anyone working with LLMs. By learning how to craft effective prompts, you can unlock the full potential of these powerful AI tools and get them to do amazing things! It's like learning how to speak the LLM's language to get the most out of it.\n",
      "\n",
      "\n",
      "------------------------------------------------------------\n",
      "Happy learning! 🚀\n"
     ]
    }
   ],
   "source": [
    "\n",
    "interactive_coach() # run interactive chatbot"
   ]
  },
  {
   "cell_type": "markdown",
   "metadata": {},
   "source": [
    "## Summary\n",
    "\n",
    "This AI Learning Coach demonstrates:\n",
    "\n",
    "1. **API Integration**: How to connect to Google Gemini API\n",
    "2. **Prompt Engineering**: Different prompting strategies for different use cases\n",
    "3. **System Architecture**: Routing and specialization patterns\n",
    "4. **Practical Application**: Real-world chatbot functionality\n",
    "\n",
    "### This Chatbot Can be Improved by:\n",
    "\n",
    "- Adding web interface\n",
    "- Adding conversation memory\n",
    "- Including external knowledge sources"
   ]
  }
 ],
 "metadata": {
  "kernelspec": {
   "display_name": ".venv",
   "language": "python",
   "name": "python3"
  },
  "language_info": {
   "codemirror_mode": {
    "name": "ipython",
    "version": 3
   },
   "file_extension": ".py",
   "mimetype": "text/x-python",
   "name": "python",
   "nbconvert_exporter": "python",
   "pygments_lexer": "ipython3",
   "version": "3.9.13"
  }
 },
 "nbformat": 4,
 "nbformat_minor": 4
}
