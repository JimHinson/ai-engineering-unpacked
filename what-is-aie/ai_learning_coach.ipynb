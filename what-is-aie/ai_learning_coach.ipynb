{
 "cells": [
  {
   "cell_type": "markdown",
   "metadata": {},
   "source": [
    "# AI Learning Coach Chatbot\n",
    "\n",
    "A simple example demonstrating how to use LLMs through API for educational purposes.\n",
    "\n",
    "This notebook shows:\n",
    "- How to connect to Google Gemini API\n",
    "- Simple Q&A functionality\n",
    "- Query routing to specialized \"coaches\"\n",
    "- Interactive chatbot experience\n",
    "\n",
    "## Setup\n",
    "\n",
    "**📖 To get started, see the [README.md](README.md) for complete setup instructions including project cloning and environment setup.**\n",
    "\n",
    "Quick checklist - make sure you have:\n",
    "1. Installed required packages: `pip install -r what-is-aie/requirements.txt`\n",
    "2. Obtained API key from [Google AI Studio](https://aistudio.google.com/)\n",
    "3. Created a `.env` file with your `GEMINI_API_KEY`"
   ]
  },
  {
   "cell_type": "code",
   "execution_count": null,
   "metadata": {},
   "outputs": [],
   "source": [
    "# Import required libraries\n",
    "from google import genai\n",
    "from dotenv import load_dotenv\n",
    "import os\n",
    "\n",
    "# Load environment variables\n",
    "load_dotenv()\n",
    "\n",
    "# Initialize Gemini client\n",
    "client = genai.Client(api_key=os.environ[\"GEMINI_API_KEY\"])\n",
    "\n",
    "print(\"✅ Setup complete! API client initialized.\")"
   ]
  },
  {
   "cell_type": "markdown",
   "metadata": {},
   "source": [
    "## Part 1: Simple Q&A Functionality\n",
    "\n",
    "Let's start with a basic AI coach that can answer any question with educational context."
   ]
  },
  {
   "cell_type": "code",
   "execution_count": null,
   "metadata": {},
   "outputs": [],
   "source": [
    "def generate_response(prompt, client=client, model_id=\"gemini-2.0-flash\"):\n",
    "    \"\"\"\n",
    "    Generate response using Google Gemini API\n",
    "    \"\"\"\n",
    "    response = client.models.generate_content(\n",
    "        model=model_id,\n",
    "        contents=prompt,\n",
    "    )\n",
    "    return response.text"
   ]
  },
  {
   "cell_type": "markdown",
   "metadata": {},
   "source": [
    "Next, let's define a function that takes a user's question and adds educational context to create a specialized prompt for our AI Learning Coach."
   ]
  },
  {
   "cell_type": "code",
   "execution_count": null,
   "metadata": {},
   "outputs": [],
   "source": [
    "def simple_ai_coach(question):\n",
    "    base_prompt = f\"\"\"You are an AI Learning Coach. You help students learn about AI concepts, \n",
    "    Python programming, and career guidance in technology. \n",
    "    \n",
    "    Please provide a clear, educational answer to this question: {question}\n",
    "    \n",
    "    Keep your response short but informative, suitable for someone learning about AI and programming.\"\"\"\n",
    "    \n",
    "    return generate_response(base_prompt)"
   ]
  },
  {
   "cell_type": "code",
   "execution_count": null,
   "metadata": {},
   "outputs": [
    {
     "name": "stdout",
     "output_type": "stream",
     "text": [
      "Q: What is deep learning?\n",
      "A: Okay, here's a clear and concise explanation of deep learning:\n",
      "\n",
      "**Deep learning is a subfield of machine learning that uses artificial neural networks with many layers (hence \"deep\") to analyze data.**\n",
      "\n",
      "Think of it like this:\n",
      "\n",
      "*   **Machine Learning:** A broad field where computers learn from data without being explicitly programmed.\n",
      "*   **Neural Networks:** Inspired by the human brain, these networks consist of interconnected nodes (neurons) that process information.\n",
      "*   **Deep Learning:** Neural networks with many layers. These layers allow the network to learn complex patterns and representations from raw data, like images, text, or sound, automatically extracting features that would traditionally need to be engineered by hand. This feature extraction capability is a key advantage.\n",
      "\n",
      "**In short:** Deep learning excels at tasks like image recognition, natural language processing, and more because it can automatically learn intricate features from data using deep, multi-layered neural networks.\n",
      "\n",
      "I can provide more information and examples if you'd like! Let me know if you want to dig deeper.\n",
      "\n"
     ]
    }
   ],
   "source": [
    "question = \"What is deep learning?\"\n",
    "print(f\"Q: {question}\")\n",
    "print(f\"A: {simple_ai_coach(question)}\")"
   ]
  },
  {
   "cell_type": "markdown",
   "metadata": {},
   "source": [
    "## Part 2: Query Routing System\n",
    "\n",
    "Now let's add intelligence to route questions to specialized \"coaches\" based on the topic."
   ]
  },
  {
   "cell_type": "markdown",
   "metadata": {},
   "source": [
    "Let's create a function that uses LLM to analyze the query and determine which specialist should handle it."
   ]
  },
  {
   "cell_type": "code",
   "execution_count": null,
   "metadata": {},
   "outputs": [],
   "source": [
    "def route_query(question):\n",
    "    router_prompt = f\"\"\"You are a query router for an AI Learning Coach system.\n",
    "    \n",
    "    Analyze the following question and determine which specialist should handle it:\n",
    "    \n",
    "    - AI_CONCEPTS: Questions about artificial intelligence, machine learning, deep learning, neural networks, algorithms, etc.\n",
    "    - PYTHON_CODING: Questions about Python programming, syntax, libraries, debugging, code examples, etc.\n",
    "    - CAREER_GUIDANCE: Questions about career paths, skills needed, job market, education, professional development, etc.\n",
    "    - GENERAL: Questions that don't fit the above categories or are too broad\n",
    "    \n",
    "    Respond with ONLY one of these four options: [AI_CONCEPTS, PYTHON_CODING, CAREER_GUIDANCE, GENERAL]\n",
    "    \n",
    "    Question: {question}\"\"\"\n",
    "    \n",
    "    route = generate_response(router_prompt).strip()\n",
    "    return route"
   ]
  },
  {
   "cell_type": "code",
   "execution_count": null,
   "metadata": {},
   "outputs": [],
   "source": [
    "# Test routing\n",
    "test_questions = [\n",
    "    \"What is deep learning?\",\n",
    "    \"How do I create a Python function?\",\n",
    "    \"What skills do I need for a data science job?\"\n",
    "]\n",
    "\n",
    "print(\"=== Routing Demo ===\")\n",
    "for q in test_questions:\n",
    "    route = route_query(q)\n",
    "    print(f\"Q: {q}\")\n",
    "    print(f\"Route: {route}\\n\")"
   ]
  },
  {
   "cell_type": "markdown",
   "metadata": {},
   "source": [
    "## Part 3: Specialized Coaches\n",
    "\n",
    "Each specialist has a unique personality and expertise area with tailored prompts."
   ]
  },
  {
   "cell_type": "code",
   "execution_count": null,
   "metadata": {},
   "outputs": [],
   "source": [
    "def ai_concepts_coach(question):\n",
    "    \"\"\"Specialist for AI concepts and theory\"\"\"\n",
    "    specialist_prompt = f\"\"\"You are an AI Concepts Specialist. You excel at explaining artificial intelligence, \n",
    "    machine learning, deep learning, neural networks, and related technical concepts.\n",
    "    \n",
    "    Your teaching style:\n",
    "    - Use clear, simple language\n",
    "    - Provide concrete examples\n",
    "    - Break down complex concepts into digestible parts\n",
    "    - Include real-world applications when relevant\n",
    "    \n",
    "    Question: {question}\"\"\"\n",
    "    \n",
    "    return generate_response(specialist_prompt)\n",
    "\n",
    "def python_coding_coach(question):\n",
    "    \"\"\"Specialist for Python programming\"\"\"\n",
    "    specialist_prompt = f\"\"\"You are a Python Coding Specialist. You help students learn Python programming,\n",
    "    from basic syntax to advanced concepts, including libraries commonly used in AI/ML.\n",
    "    \n",
    "    Your teaching style:\n",
    "    - Provide working code examples\n",
    "    - Explain code step-by-step\n",
    "    - Suggest best practices\n",
    "    - Include comments in code\n",
    "    - Mention relevant libraries when appropriate\n",
    "    \n",
    "    Question: {question}\"\"\"\n",
    "    \n",
    "    return generate_response(specialist_prompt)\n",
    "\n",
    "def career_guidance_coach(question):\n",
    "    \"\"\"Specialist for career guidance in AI/tech\"\"\"\n",
    "    specialist_prompt = f\"\"\"You are a Career Guidance Specialist focused on AI and technology careers.\n",
    "    You help students understand career paths, required skills, and professional development.\n",
    "    \n",
    "    Your guidance style:\n",
    "    - Provide practical, actionable advice\n",
    "    - Mention specific skills and technologies\n",
    "    - Include learning resources when relevant\n",
    "    - Be realistic about timelines and expectations\n",
    "    - Consider different experience levels\n",
    "    \n",
    "    Question: {question}\"\"\"\n",
    "    \n",
    "    return generate_response(specialist_prompt)\n",
    "\n",
    "def general_coach(question):\n",
    "    \"\"\"General coach for questions that don't fit specific categories\"\"\"\n",
    "    specialist_prompt = f\"\"\"You are a General AI Learning Coach. Handle this question with educational focus,\n",
    "    providing helpful information while staying within the scope of AI, programming, and technology learning.\n",
    "    \n",
    "    Question: {question}\"\"\"\n",
    "    \n",
    "    return generate_response(specialist_prompt)\n",
    "\n",
    "print(\"✅ Specialized coaches defined!\")"
   ]
  },
  {
   "cell_type": "markdown",
   "metadata": {},
   "source": [
    "## Part 4: Smart AI Coach with Routing\n",
    "\n",
    "This combines routing with specialized responses for an intelligent chatbot experience."
   ]
  },
  {
   "cell_type": "markdown",
   "metadata": {},
   "source": [
    "\n",
    "Let's create main function that routes questions to appropriate specialists.\n",
    "\n",
    "It will return the routing decision and specialist response."
   ]
  },
  {
   "cell_type": "code",
   "execution_count": null,
   "metadata": {},
   "outputs": [],
   "source": [
    "def smart_ai_coach(question):\n",
    "    # Route the query\n",
    "    route = route_query(question)\n",
    "    \n",
    "    # Get response from appropriate specialist\n",
    "    if route == \"AI_CONCEPTS\":\n",
    "        response = ai_concepts_coach(question)\n",
    "    elif route == \"PYTHON_CODING\":\n",
    "        response = python_coding_coach(question)\n",
    "    elif route == \"CAREER_GUIDANCE\":\n",
    "        response = career_guidance_coach(question)\n",
    "    else:\n",
    "        response = general_coach(question)\n",
    "    \n",
    "    return route, response\n",
    "    "
   ]
  },
  {
   "cell_type": "code",
   "execution_count": null,
   "metadata": {},
   "outputs": [],
   "source": [
    "# Demo the smart coach\n",
    "print(\"=== Smart AI Coach Demo ===\")\n",
    "demo_question = \"How do neural networks learn?\"\n",
    "route, response = smart_ai_coach(demo_question)\n",
    "\n",
    "print(f\"Q: {demo_question}\")\n",
    "print(f\"🎯 Routed to: {route}\")\n",
    "print(f\"💡 Answer: {response}\")"
   ]
  },
  {
   "cell_type": "markdown",
   "metadata": {},
   "source": [
    "## Part 5: Interactive Chat Experience\n",
    "\n",
    "Try the interactive coach! Ask questions about AI concepts, Python coding, or career guidance."
   ]
  },
  {
   "cell_type": "code",
   "execution_count": null,
   "metadata": {},
   "outputs": [],
   "source": [
    "def interactive_coach():\n",
    "    \"\"\"\n",
    "    Interactive function for Jupyter notebooks with conversational memory.\n",
    "    \"\"\"\n",
    "    print(\"🤖 AI Learning Coach is ready!\")\n",
    "    print(\"Ask me about AI concepts, Python coding, or career guidance.\")\n",
    "    print(\"Type 'quit' to exit.\\n\")\n",
    "\n",
    "    conversation_history = []  # Store (user, ai) message pairs\n",
    "\n",
    "    while True:\n",
    "        # Get user question\n",
    "        question = input(\"Your question: \")\n",
    "\n",
    "        # Exit the loop if user says 'quit', 'exit', or 'bye'\n",
    "        if question.lower() in ['quit', 'exit', 'bye']:\n",
    "            print(\"Happy learning! 🚀\")\n",
    "            break\n",
    "\n",
    "        if question.strip():\n",
    "            # Build context from conversation history\n",
    "            context = \"\"\n",
    "            for i, (user_msg, ai_msg) in enumerate(conversation_history[-5:]):  # last 5 exchanges\n",
    "                context += f\"User: {user_msg}\\nAI: {ai_msg}\\n\"\n",
    "            context += f\"User: {question}\\nAI:\"\n",
    "\n",
    "            # Use context as part of the prompt for the smart_ai_coach\n",
    "            # Modify smart_ai_coach to accept context if needed, or append to question\n",
    "            route, response = smart_ai_coach(context)\n",
    "\n",
    "            print(f\"\\n🎯 Routed to: {route}\")\n",
    "            print(f\"💡 Answer: {response}\\n\")\n",
    "            print(\"-\" * 60)\n",
    "\n",
    "            # Save to conversation history\n",
    "            conversation_history.append((question, response))\n",
    "\n",
    "#"
   ]
  },
  {
   "cell_type": "code",
   "execution_count": null,
   "metadata": {},
   "outputs": [],
   "source": [
    "\n",
    "interactive_coach() # run interactive chatbot"
   ]
  },
  {
   "cell_type": "markdown",
   "metadata": {},
   "source": [
    "## Summary\n",
    "\n",
    "This AI Learning Coach demonstrates:\n",
    "\n",
    "1. **API Integration**: How to connect to Google Gemini API\n",
    "2. **Prompt Engineering**: Different prompting strategies for different use cases\n",
    "3. **System Architecture**: Routing and specialization patterns\n",
    "4. **Practical Application**: Real-world chatbot functionality\n",
    "\n",
    "### This Chatbot Can be Improved by:\n",
    "\n",
    "- Adding web interface\n",
    "- Including external knowledge sources"
   ]
  }
 ],
 "metadata": {
  "kernelspec": {
   "display_name": "Python 3 (ipykernel)",
   "language": "python",
   "name": "python3"
  },
  "language_info": {
   "codemirror_mode": {
    "name": "ipython",
    "version": 3
   },
   "file_extension": ".py",
   "mimetype": "text/x-python",
   "name": "python",
   "nbconvert_exporter": "python",
   "pygments_lexer": "ipython3"
  }
 },
 "nbformat": 4,
 "nbformat_minor": 4
}
